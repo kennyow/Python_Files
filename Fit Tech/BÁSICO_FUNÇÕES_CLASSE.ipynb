{
 "cells": [
  {
   "cell_type": "markdown",
   "metadata": {
    "id": "MkaEraw6EamX"
   },
   "source": [
    "<b><h1>FUNÇÕES</h1></b>"
   ]
  },
  {
   "cell_type": "code",
   "execution_count": 2,
   "metadata": {
    "colab": {
     "base_uri": "https://localhost:8080/"
    },
    "id": "OByd3xZgUJ0z",
    "outputId": "82fba66b-c417-41f2-b4db-742c4bf29a12"
   },
   "outputs": [
    {
     "name": "stdout",
     "output_type": "stream",
     "text": [
      "(20, 5.0)\n",
      "(90, 22.5)\n",
      "16\n",
      "4.0\n"
     ]
    }
   ],
   "source": [
    "# RETORNO DE DOIS VALORES\n",
    "\n",
    "def minha_funcao(numero): \n",
    "   x = numero * 2\n",
    "   y = numero / 2\n",
    "   return x, y\n",
    "\n",
    "n1 = 10\n",
    "print(minha_funcao(n1))\n",
    "\n",
    "print(minha_funcao(45))\n",
    "\n",
    "dobro, metade = minha_funcao(8)\n",
    "print(dobro)\n",
    "print(metade)"
   ]
  },
  {
   "cell_type": "code",
   "execution_count": null,
   "metadata": {
    "colab": {
     "base_uri": "https://localhost:8080/"
    },
    "id": "uT7lzjG7UNrh",
    "outputId": "42395b70-36dd-4951-f420-bf44dadb3a31"
   },
   "outputs": [
    {
     "name": "stdout",
     "output_type": "stream",
     "text": [
      "6.0\n",
      "3.0\n"
     ]
    }
   ],
   "source": [
    "# FUNÇÃO QUE RECEBE DOIS PARÂMETROS\n",
    "\n",
    "def media(x, y):  \n",
    "   m = (x + y)/2\n",
    "   return m\n",
    "\n",
    "num1 = 4\n",
    "num2 = 8\n",
    "\n",
    "print(media(num1, num2))\n",
    "\n",
    "mediafinal = media(2, 4)\n",
    "print(mediafinal)\n"
   ]
  },
  {
   "cell_type": "code",
   "execution_count": 4,
   "metadata": {
    "colab": {
     "base_uri": "https://localhost:8080/"
    },
    "id": "pLR-EVi-GqMh",
    "outputId": "b5ae0914-1052-4e87-983e-42e956473255"
   },
   "outputs": [
    {
     "name": "stdout",
     "output_type": "stream",
     "text": [
      "Digite seu nome:Kennyo\n",
      "Olá, Kennyo, seja bem-vindo(a)!!!\n"
     ]
    }
   ],
   "source": [
    "# FUNÇÃO QUE NÃO RETORNA VALORES\n",
    "\n",
    "def imprime_msg(var):\n",
    "    print(f\"Olá, {var}, seja bem-vindo(a)!!!\")\n",
    "\n",
    "\n",
    "nome = input(\"Digite seu nome:\")\n",
    "imprime_msg(nome)\n"
   ]
  },
  {
   "cell_type": "code",
   "execution_count": null,
   "metadata": {
    "colab": {
     "base_uri": "https://localhost:8080/"
    },
    "id": "fjnO-NUONXDg",
    "outputId": "f288485c-3c28-4129-e99f-2bac501bd9a8"
   },
   "outputs": [
    {
     "name": "stdout",
     "output_type": "stream",
     "text": [
      "Valores informados: 10 e 20\n",
      "A soma dos valores é: 30\n"
     ]
    }
   ],
   "source": [
    "#FUNÇÃO COM UM VALOR DEFAUT( A PASSAGEM DO VALOR NÃO É OBRIGATÓRIA)\n",
    "\n",
    "def teste_default(num1, num2, calcula=False):\n",
    "    ''' Documentação Função: num1 e num2 inteiros, o parâmetro 'calcula' é opcional booleano ''' #documentação da função\n",
    "    \n",
    "    print(f\"Valores informados: {num1} e {num2}\")\n",
    "    if calcula:\n",
    "       print(\"A soma dos valores é:\", num1 + num2)\n",
    "\n",
    "\n",
    "teste_default(10, 20, True)\n"
   ]
  },
  {
   "cell_type": "code",
   "execution_count": null,
   "metadata": {
    "colab": {
     "base_uri": "https://localhost:8080/"
    },
    "id": "pyTWzNslQFoq",
    "outputId": "d6eeeb76-bcfa-44ae-f519-ecb343fdb985"
   },
   "outputs": [
    {
     "name": "stdout",
     "output_type": "stream",
     "text": [
      "O número total de valores recebidos é: 4\n",
      "Elemento: 2\n",
      "Elemento: 4\n",
      "Elemento: 6\n",
      "Elemento: 10\n"
     ]
    }
   ],
   "source": [
    "# *ARGS = FUNÇÃO QUE PODE RECEBER UM CONJUNTO DE VALORES. O NÚMERO DE ELEMENTOS NÃO É FIXO.\n",
    "\n",
    "def exibir_valores(*args):\n",
    "    \n",
    "    total_elementos = len(args)\n",
    "    print(\"O número total de valores recebidos é:\", total_elementos )\n",
    "\n",
    "    for i in args:\n",
    "       print(\"Elemento:\", i)\n",
    "\n",
    "exibir_valores(2, 4, 6, 10)\n"
   ]
  },
  {
   "cell_type": "code",
   "execution_count": null,
   "metadata": {
    "colab": {
     "base_uri": "https://localhost:8080/"
    },
    "id": "fKpZio0sp1U_",
    "outputId": "0c593a2e-ace4-460e-ad0f-ac73f62824b6"
   },
   "outputs": [
    {
     "name": "stdout",
     "output_type": "stream",
     "text": [
      "Resultado Soma: 15\n",
      "5\n"
     ]
    }
   ],
   "source": [
    "#FUNÇÃO LAMBDA (ANÔMIMA)\n",
    "#SOMA\n",
    "\n",
    "soma_lambda = lambda n1, n2: n1 + n2\n",
    "\n",
    "X = 10\n",
    "Y = 5\n",
    "\n",
    "result = soma_lambda(X,Y)     \n",
    "print ('Resultado Soma:', result)\n",
    "\n",
    "print(soma_lambda(2,3))\n"
   ]
  },
  {
   "cell_type": "code",
   "execution_count": null,
   "metadata": {
    "colab": {
     "base_uri": "https://localhost:8080/"
    },
    "id": "cVqNPUxlyk_i",
    "outputId": "a971bda4-e4a9-4c21-e907-96e24b2b4eb3"
   },
   "outputs": [
    {
     "name": "stdout",
     "output_type": "stream",
     "text": [
      "15.0\n",
      "3.5\n"
     ]
    }
   ],
   "source": [
    "#MÉDIA\n",
    "\n",
    "media_lambda = lambda n1, n2: (n1 + n2)/2\n",
    "\n",
    "print(media_lambda(10, 20))\n",
    "\n",
    "resultado = media_lambda(2, 5)\n",
    "print(resultado)\n"
   ]
  },
  {
   "cell_type": "code",
   "execution_count": null,
   "metadata": {
    "colab": {
     "base_uri": "https://localhost:8080/"
    },
    "id": "o1m6hEa2rOkJ",
    "outputId": "5332010f-6321-444c-e6f9-1d975b039a83"
   },
   "outputs": [
    {
     "name": "stdout",
     "output_type": "stream",
     "text": [
      "[1, 4, 16, 64]\n",
      "<class 'list'>\n"
     ]
    }
   ],
   "source": [
    "#FUNÇÕES LAMBDA (colocando a referência da lista no final da função) E MAP (serve como um FOR para cada item da lista)\n",
    "\n",
    "valores = [1, 2, 4, 8]\n",
    "\n",
    "resultado = list(map(lambda x: x ** 2, valores))\n",
    "\n",
    "print(resultado)\n",
    "print(type(resultado))\n"
   ]
  },
  {
   "cell_type": "markdown",
   "metadata": {
    "id": "UsahL7p2UrK5"
   },
   "source": [
    "<b><h1>CLASSES</h1></b>"
   ]
  },
  {
   "cell_type": "code",
   "execution_count": 6,
   "metadata": {
    "id": "G4pxbTS_UtKy"
   },
   "outputs": [],
   "source": [
    "# Classe Pessoa\n",
    "class Pessoa:\n",
    "    nome = \"\"\n",
    "    cargo = \"\"\n",
    "    salario = 0.0\n",
    "    "
   ]
  },
  {
   "cell_type": "code",
   "execution_count": 7,
   "metadata": {
    "colab": {
     "base_uri": "https://localhost:8080/"
    },
    "id": "E0rsAriJU0x-",
    "outputId": "f0ae0cb9-eddb-456f-bbb4-09203172ee2f"
   },
   "outputs": [
    {
     "name": "stdout",
     "output_type": "stream",
     "text": [
      "Patrícia é Gerente de Compras e seu salário é de R$ 7000 .\n",
      "Carlos é Engenheiro de Produto e seu salário é de R$ 6400 .\n"
     ]
    }
   ],
   "source": [
    "# Objeto \"gerente\" do tipo Pessoa\n",
    "gerente = Pessoa()\n",
    "gerente.nome = \"Patrícia\"\n",
    "gerente.cargo = \"Gerente de Compras\"\n",
    "gerente.salario = 7000\n",
    "\n",
    "# Objeto \"engenheiro\" do tipo Pessoa\n",
    "engenheiro = Pessoa()\n",
    "engenheiro.nome = \"Carlos\"\n",
    "engenheiro.cargo = \"Engenheiro de Produto\"\n",
    "engenheiro.salario = 6400\n",
    "\n",
    "print(gerente.nome, \"é\", gerente.cargo, \"e seu salário é de R$\", gerente.salario,\".\")\n",
    "print(engenheiro.nome,\"é\", engenheiro.cargo, \"e seu salário é de R$\", engenheiro.salario,\".\")\n"
   ]
  },
  {
   "cell_type": "code",
   "execution_count": 14,
   "metadata": {
    "colab": {
     "base_uri": "https://localhost:8080/"
    },
    "id": "jB6d18fsU-5D",
    "outputId": "18f713fb-8690-4c0c-9724-285eb0ab6ad8"
   },
   "outputs": [
    {
     "name": "stdout",
     "output_type": "stream",
     "text": [
      "O salário final de Antônio como Desenvolver FullStack é de R$ 9700.\n"
     ]
    }
   ],
   "source": [
    "# Classe com método (função)\n",
    "class Pessoa:\n",
    "   nome = \"\"\n",
    "   cargo = \"\"\n",
    "   salario = 0.0\n",
    "\n",
    "   def calcula_salario(self, salario, bonus):\n",
    "       return self.salario + self.bonus\n",
    "   \n",
    "   \n",
    "# criação do objeto \"dev\" do tipo Pessoa\n",
    "dev = Pessoa()\n",
    "\n",
    "dev.nome = \"Antônio\"\n",
    "dev.cargo = \"Desenvolver FullStack\"\n",
    "dev.salario = 5200\n",
    "dev.bonus = 4500\n",
    "\n",
    "salario_total = dev.calcula_salario(dev.salario, dev.bonus)\n",
    "\n",
    "print(f\"O salário final de {dev.nome} como {dev.cargo} é de R$ {salario_total}.\")\n"
   ]
  },
  {
   "cell_type": "code",
   "execution_count": 16,
   "metadata": {
    "colab": {
     "base_uri": "https://localhost:8080/"
    },
    "id": "U6I1LFHm1CLT",
    "outputId": "5ca7961e-a746-4420-e7a1-bad95748dd29"
   },
   "outputs": [
    {
     "name": "stdout",
     "output_type": "stream",
     "text": [
      "A série Friends de 1994 tem 10 temporadas\n"
     ]
    }
   ],
   "source": [
    "# Utilizando inicializador __init__\n",
    "\n",
    "class Serie:\n",
    "    def __init__(self, nome, ano_inicio, temporada):\n",
    "        self.nome = nome\n",
    "        self.ano_inicio = ano_inicio\n",
    "        self.temporada = temporada\n",
    "      \n",
    "   \n",
    "friends = Serie('Friends', 1994, 10)\n",
    "\n",
    "print(f\"A série {friends.nome} de {friends.ano_inicio} tem {friends.temporada} temporadas\")\n"
   ]
  },
  {
   "cell_type": "markdown",
   "metadata": {
    "id": "V8F91MbSuW-6"
   },
   "source": [
    "**Bibliotecas - Módulos Python**"
   ]
  },
  {
   "cell_type": "code",
   "execution_count": null,
   "metadata": {
    "colab": {
     "base_uri": "https://localhost:8080/"
    },
    "id": "sVSLtKiMuZSq",
    "outputId": "60a3025c-c4e0-47d2-a3ce-fe38526bca58"
   },
   "outputs": [
    {
     "name": "stdout",
     "output_type": "stream",
     "text": [
      "3.0\n"
     ]
    }
   ],
   "source": [
    "# Módulo Math\n",
    "import math\n",
    "\n",
    "print(math.sqrt(9))"
   ]
  },
  {
   "cell_type": "code",
   "execution_count": null,
   "metadata": {
    "colab": {
     "base_uri": "https://localhost:8080/"
    },
    "id": "YqpwMbCK3JCl",
    "outputId": "d951b6e2-d8a6-4874-990c-1725fa144da4"
   },
   "outputs": [
    {
     "name": "stdout",
     "output_type": "stream",
     "text": [
      "3.0\n"
     ]
    }
   ],
   "source": [
    "from math import sqrt\n",
    "\n",
    "print(sqrt(9))"
   ]
  },
  {
   "cell_type": "code",
   "execution_count": null,
   "metadata": {
    "colab": {
     "base_uri": "https://localhost:8080/"
    },
    "id": "JOPJqAfZvfIT",
    "outputId": "f9244afc-6525-4757-fb4f-c617940207d5"
   },
   "outputs": [
    {
     "name": "stdout",
     "output_type": "stream",
     "text": [
      "2022\n"
     ]
    }
   ],
   "source": [
    "# Módulo Datetime\n",
    "from datetime import date \n",
    "\n",
    "ano_atual = date.today().year \n",
    "print(ano_atual)"
   ]
  },
  {
   "cell_type": "code",
   "execution_count": null,
   "metadata": {
    "id": "5a3G-QYh1h6-"
   },
   "outputs": [],
   "source": [
    "import numpy as np"
   ]
  },
  {
   "cell_type": "markdown",
   "metadata": {
    "id": "dSQtQphQkqVy"
   },
   "source": [
    "**Exercícios**\n",
    "\n",
    "\n",
    "1. Escreva uma função que recebe uma lista de números e calcula a sua média.\n",
    "\n",
    "2. Crie uma classe Animais com as propriedades nome, raça e ano de nascimento. Esta classe deverá ter um método (função) para calcular a idade (anos) dos animais. Instancie os objetos gato e cachorro."
   ]
  },
  {
   "cell_type": "code",
   "execution_count": null,
   "metadata": {
    "colab": {
     "base_uri": "https://localhost:8080/"
    },
    "id": "r4Cfd-YNV4fF",
    "outputId": "d86b0885-df8b-49c3-9969-da478df30221"
   },
   "outputs": [
    {
     "name": "stdout",
     "output_type": "stream",
     "text": [
      "16.8\n"
     ]
    }
   ],
   "source": [
    "# Questão 1\n",
    "def fmedia(a, b, c, d, e):\n",
    "  s = a + b + c + d + e\n",
    "  m = s / 5\n",
    "  return m\n",
    "  \n",
    "\n",
    "media = fmedia(1, 5, 8, 29, 41)\n",
    "\n",
    "print(media)"
   ]
  },
  {
   "cell_type": "code",
   "execution_count": null,
   "metadata": {
    "colab": {
     "base_uri": "https://localhost:8080/"
    },
    "id": "kNY1x2RXfNWZ",
    "outputId": "7723dd10-4023-4c2e-a719-377744d35ce2"
   },
   "outputs": [
    {
     "name": "stdout",
     "output_type": "stream",
     "text": [
      "O Átila é da raça Bulldog e tem 7 anos.\n",
      "O Kevin é da raça Angorá e tem 4 anos.\n"
     ]
    }
   ],
   "source": [
    "# Questão 2\n",
    "\n",
    "# Classe Animais\n",
    "\n",
    "class Animais:\n",
    "    nome = \"\"\n",
    "    raça = \"\"\n",
    "    anonasc = 0.0\n",
    "\n",
    "    def calcula_idade(self, a):\n",
    "       idade = 2022 - a\n",
    "       return idade\n",
    "   \n",
    "   \n",
    "# criação do objeto Cachorro e Gato\n",
    "cachorro = Animais()\n",
    "\n",
    "cachorro.nome = \"Átila\"\n",
    "cachorro.raça = \"Bulldog\"\n",
    "cachorro.anonas = 2015\n",
    "\n",
    "gato = Animais()\n",
    "\n",
    "gato.nome = \"Kevin\"\n",
    "gato.raça = \"Angorá\"\n",
    "gato.anonas = 2018\n",
    "\n",
    "idade_cachorro = cachorro.calcula_idade(cachorro.anonas)\n",
    "idade_gato = gato.calcula_idade(gato.anonas)\n",
    "\n",
    "print(f\"O {cachorro.nome} é da raça {cachorro.raça} e tem {idade_cachorro} anos.\")\n",
    "print(f\"O {gato.nome} é da raça {gato.raça} e tem {idade_gato} anos.\")"
   ]
  }
 ],
 "metadata": {
  "colab": {
   "provenance": []
  },
  "kernelspec": {
   "display_name": "Python 3 (ipykernel)",
   "language": "python",
   "name": "python3"
  },
  "language_info": {
   "codemirror_mode": {
    "name": "ipython",
    "version": 3
   },
   "file_extension": ".py",
   "mimetype": "text/x-python",
   "name": "python",
   "nbconvert_exporter": "python",
   "pygments_lexer": "ipython3",
   "version": "3.9.12"
  }
 },
 "nbformat": 4,
 "nbformat_minor": 1
}
